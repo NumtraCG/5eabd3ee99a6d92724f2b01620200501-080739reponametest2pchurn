{
 "cells": [
  {
   "cell_type": "markdown",
   "metadata": {},
   "source": [
    "***GENERATED CODE FOR reponametest2pchurn PIPELINE***"
   ]
  },
  {
   "cell_type": "markdown",
   "metadata": {},
   "source": [
    "**CONNECTOR FUNCTIONS TO READ DATA FROM DATABRICKS FILESYSTEM**"
   ]
  },
  {
   "cell_type": "code",
   "execution_count": null,
   "metadata": {},
   "outputs": [],
   "source": [
    "import datetime\n",
    "import logging\n",
    "import warnings\n",
    "warnings.filterwarnings('ignore')\n",
    "logging.basicConfig(format='%(levelname)s:%(message)s', level=logging.INFO)\n",
    "\n",
    "\n",
    "class DBFSConnector:\n",
    "\n",
    "    def fetch(inStages, inStagesData, stageId, spark, config):\n",
    "        df = spark.read.\\\n",
    "            options(header='true' if eval(config)[\"is_header\"] == \"Use Header Line\" else 'false',\n",
    "                    inferschema='true',\n",
    "                    delimiter=eval(config)[\"delimiter\"])\\\n",
    "            .csv(eval(config)['url'])\n",
    "        display(df.limit(2).toPandas())\n",
    "        return df\n",
    "\n",
    "    def put(inStages, inStagesData, stageId, spark, config):\n",
    "        return inStagesData.write.format('csv').options(header='true' if eval(config)[\"is_header\"] == \"Use Header Line\" else 'false',\n",
    "                                                        delimiter=eval(config)[\"delimiter\"]).save((\"%s %s\") % (datetime.datetime.now().strftime(\"%Y-%m-%d %H.%M.%S\")+\"_\", eval(config)['url']))\n"
   ]
  },
  {
   "cell_type": "markdown",
   "metadata": {},
   "source": [
    "**TRANSFORMATIONS FUNCTIONS THAT WILL BE APPLIED ON DATA**"
   ]
  },
  {
   "cell_type": "code",
   "execution_count": null,
   "metadata": {},
   "outputs": [],
   "source": [
    "import json\n",
    "from pyspark.sql.types import IntegerType\n",
    "from pyspark.ml.feature import StringIndexer\n",
    "from pyspark.sql.functions import col, when\n",
    "from pyspark.sql.types import IntegerType\n",
    "from pyspark.sql.functions import mean, stddev, min, max, col\n",
    "\n",
    "\n",
    "class CleanseData:\n",
    "    # def __init__(self,df):\n",
    "    #     #print()\n",
    "\n",
    "    def replaceByMean(self, feature, df, mean_=-1):\n",
    "\n",
    "        meanValue = df.select(mean(col(feature.name)).alias(\n",
    "            'mean')).collect()[0][\"mean\"]\n",
    "        df.fillna(meanValue, subset=[feature.name])\n",
    "        df.withColumn(feature.name, when(col(feature.name) == \" \",\n",
    "                                         meanValue).otherwise(col(feature.name).cast(\"Integer\")))\n",
    "        return df\n",
    "\n",
    "    def replaceByMax(self, feature, df, max_=-1):\n",
    "        maxValue = df.select(max(col(feature.name)).alias('max')).collect()[\n",
    "            0][\"max\"]\n",
    "        df.fillna(maxValue, subset=[feature.name])\n",
    "        df = df.withColumn(feature.name,\n",
    "                           when(col(feature.name) == \" \", maxValue).otherwise(col(feature.name)))\n",
    "        return df\n",
    "\n",
    "    def replaceByMin(self, feature, df, min_=-1):\n",
    "        minValue = df.select(min(col(feature.name)).alias('min')).collect()[\n",
    "            0][\"min\"]\n",
    "        df.fillna(minValue, subset=[feature.name])\n",
    "        df = df.withColumn(feature.name,\n",
    "                           when(col(feature.name) == \" \", minValue).otherwise(col(feature.name)))\n",
    "        return df\n",
    "\n",
    "    def replaceByStandardDeviation(self, feature, df, stddev_=-1):\n",
    "        stddevValue = df.select(stddev(col(feature.name)).alias(\n",
    "            'stddev')).collect()[0][\"stddev\"]\n",
    "        df.fillna(stddevValue, subset=[feature.name])\n",
    "        df = df.withColumn(feature.name,\n",
    "                           when(col(feature.name) == \" \", stddevValue).otherwise(col(feature.name)))\n",
    "        return df\n",
    "\n",
    "    def replaceDateRandomly(self, feature, df):\n",
    "        fillValue = df.where(col(feature.name).isNotNull()\n",
    "                             ).head(1)[0][feature.name]\n",
    "        df.fillna(str(fillValue), subset=[feature.name])\n",
    "        df = df.withColumn(feature.name,\n",
    "                           when(col(feature.name) == \" \", fillValue).otherwise(col(feature.name)))\n",
    "        # print(\"CleanseData:replaceDateRandomly Schema : \", df.#printSchema())\n",
    "        return df\n",
    "\n",
    "    def replaceNullValues(self, fList, df):\n",
    "        featuresList = df.schema.fields\n",
    "        for featureObj in fList:\n",
    "            for feat in featuresList:\n",
    "                if featureObj[\"feature\"] in feat.name:\n",
    "                    featureName = feat\n",
    "                    if \"mean\" in featureObj[\"replaceby\"]:\n",
    "                        df = self.replaceByMean(featureName, df)\n",
    "                    elif \"max\" in featureObj[\"replaceby\"]:\n",
    "                        df = self.replaceByMax(featureName, df)\n",
    "                    elif \"min\" in featureObj[\"replaceby\"]:\n",
    "                        df = self.replaceByMin(featureName, df)\n",
    "                    elif \"stddev\" in featureObj[\"replaceby\"]:\n",
    "                        df = self.replaceByStandardDeviation(featureName, df)\n",
    "                    elif \"random\" in featureObj[\"replaceby\"]:\n",
    "                        df = self.replaceDateRandomly(featureName, df)\n",
    "        return df\n",
    "\n",
    "\n",
    "def StringIndexerTransform(df, params):\n",
    "    dfReturn = df\n",
    "    feature = params[\"feature\"]\n",
    "\n",
    "    dfReturn = dfReturn.fillna({feature: ''})\n",
    "    outcol = feature + \"_transform\"\n",
    "    indexer = StringIndexer(\n",
    "        inputCol=feature, outputCol=outcol, handleInvalid=\"skip\")\n",
    "    indexed = indexer.fit(dfReturn).transform(dfReturn)\n",
    "    indexed = indexed.drop(feature).withColumnRenamed(outcol, feature)\n",
    "    dfReturn = indexed\n",
    "    distinct_values_list = dfReturn.select(\n",
    "        feature).distinct().rdd.map(lambda r: r[0]).collect()\n",
    "    len_distinct_values_list = len(distinct_values_list)\n",
    "    if len_distinct_values_list <= 4:\n",
    "        changed_type_df = dfReturn.withColumn(\n",
    "            feature, dfReturn[feature].cast(IntegerType()))\n",
    "        return changed_type_df\n",
    "    # changed_type_df.show(3)\n",
    "    return dfReturn\n",
    "\n",
    "\n",
    "Feature_Transformations_Methods = {\n",
    "    \"String Indexer\": StringIndexerTransform,\n",
    "\n",
    "}\n",
    "\n",
    "\n",
    "class TransformationMain:\n",
    "    # TODO: change df argument in run with following\n",
    "    def run(transformationDF, spark, config):\n",
    "        configObj = json.loads(config)\n",
    "        featureData = configObj[\"FE\"]\n",
    "        transformationDF = CleanseData().replaceNullValues(featureData, transformationDF)\n",
    "        for transformation in featureData:\n",
    "            feature = transformation[\"feature\"]\n",
    "            if transformation[\"transformation\"] != '' and transformation[\"selected\"].lower() == \"true\" and not (feature.__contains__(\"_transform\")):\n",
    "                transformationDF = Feature_Transformations_Methods[\"%s\" % transformation[\"transformation\"]](\n",
    "                    transformationDF, transformation)\n",
    "\n",
    "        display(transformationDF.limit(2).toPandas())\n",
    "        return transformationDF\n"
   ]
  },
  {
   "cell_type": "markdown",
   "metadata": {},
   "source": [
    "**AUTOML FUNCTIONS**"
   ]
  },
  {
   "cell_type": "code",
   "execution_count": null,
   "metadata": {},
   "outputs": [],
   "source": [
    "from tpot import TPOTClassifier\n",
    "from sklearn.model_selection import train_test_split\n",
    "import pyspark\n",
    "\n",
    "\n",
    "def functionClassification(sparkDF, listOfFeatures, label):\n",
    "    sparkDF.persist(pyspark.StorageLevel.MEMORY_AND_DISK)\n",
    "    df = sparkDF.toPandas()\n",
    "    df.columns.intersection(listOfFeatures)\n",
    "    X = df.drop(label, axis=1).values\n",
    "    y = df[label].values\n",
    "    X_train, X_test, y_train, y_test = train_test_split(\n",
    "        X, y, random_state=1, test_size=0.1)\n",
    "    tpotModel = TPOTClassifier(verbosity=3, n_jobs=-1, generations=10, max_time_mins=15,\n",
    "                               population_size=15)\n",
    "    tpotModel.fit(X_train, y_train)\n",
    "    display(\" Accuracy of Model : %s\" % tpotModel.score(X_test, y_test))\n"
   ]
  },
  {
   "cell_type": "markdown",
   "metadata": {},
   "source": [
    "**READING DATAFRAME**"
   ]
  },
  {
   "cell_type": "code",
   "execution_count": null,
   "metadata": {},
   "outputs": [],
   "source": [
    "from pyspark.sql import SparkSession\n",
    "spark = SparkSession.builder.getOrCreate()\n",
    "\n",
    "try: \n",
    "\treponametest2pchurn_DBFS = DBFSConnector.fetch([], {}, \"5eabd3ee99a6d92724f2b017\", spark, \"{'url': '/Demo/PredictiveChurnTrain.csv', 'file_type': 'Delimeted', 'delimiter': ',', 'is_header': 'Use Header Line'}\")\n",
    "\n",
    "except Exception as ex: \n",
    "\tlogging.error(ex)\n"
   ]
  },
  {
   "cell_type": "markdown",
   "metadata": {},
   "source": [
    "**TRANSFORMING DATAFRAME**"
   ]
  },
  {
   "cell_type": "code",
   "execution_count": null,
   "metadata": {},
   "outputs": [],
   "source": [
    "try: \n",
    "\treponametest2pchurn_AutoFE = TransformationMain.run(reponametest2pchurn_DBFS, spark,json.dumps( {\"FE\": [{\"transformationsData\": {\"feature_label\": \"State\"}, \"feature\": \"State\", \"type\": \"string\", \"selected\": \"True\", \"replaceby\": \"max\", \"stats\": {\"count\": \"660\", \"mean\": \"\", \"stddev\": \"\", \"min\": \"AK\", \"max\": \"WY\", \"missing\": \"0\"}, \"transformation\": \"String Indexer\"}, {\"transformationsData\": {}, \"feature\": \"Account_Length\", \"transformation\": \"\", \"type\": \"numeric\", \"replaceby\": \"mean\", \"selected\": \"True\", \"stats\": {\"count\": \"660\", \"mean\": \"101.36\", \"stddev\": \"39.94\", \"min\": \"1\", \"max\": \"232\", \"missing\": \"0\"}}, {\"transformationsData\": {}, \"feature\": \"Area_Code\", \"transformation\": \"\", \"type\": \"numeric\", \"replaceby\": \"mean\", \"selected\": \"True\", \"stats\": {\"count\": \"660\", \"mean\": \"437.03\", \"stddev\": \"42.43\", \"min\": \"408\", \"max\": \"510\", \"missing\": \"0\"}}, {\"transformationsData\": {\"feature_label\": \"Phone\"}, \"feature\": \"Phone\", \"type\": \"string\", \"selected\": \"True\", \"replaceby\": \"max\", \"stats\": {\"count\": \"660\", \"mean\": \"\", \"stddev\": \"\", \"min\": \"327-3954\", \"max\": \"422-8344\", \"missing\": \"0\"}, \"transformation\": \"String Indexer\"}, {\"transformationsData\": {\"feature_label\": \"Intl_Plan\"}, \"feature\": \"Intl_Plan\", \"type\": \"string\", \"selected\": \"True\", \"replaceby\": \"max\", \"stats\": {\"count\": \"660\", \"mean\": \"\", \"stddev\": \"\", \"min\": \"no\", \"max\": \"yes\", \"missing\": \"0\"}, \"transformation\": \"String Indexer\"}, {\"transformationsData\": {\"feature_label\": \"VMail_Plan\"}, \"feature\": \"VMail_Plan\", \"type\": \"string\", \"selected\": \"True\", \"replaceby\": \"max\", \"stats\": {\"count\": \"660\", \"mean\": \"\", \"stddev\": \"\", \"min\": \"no\", \"max\": \"yes\", \"missing\": \"0\"}, \"transformation\": \"String Indexer\"}, {\"transformationsData\": {}, \"feature\": \"VMail_Message\", \"transformation\": \"\", \"type\": \"numeric\", \"replaceby\": \"mean\", \"selected\": \"True\", \"stats\": {\"count\": \"660\", \"mean\": \"7.91\", \"stddev\": \"13.58\", \"min\": \"0\", \"max\": \"46\", \"missing\": \"0\"}}, {\"transformationsData\": {}, \"feature\": \"Day_Mins\", \"type\": \"real\", \"selected\": \"True\", \"replaceby\": \"mean\", \"stats\": {\"count\": \"660\", \"mean\": \"177.2\", \"stddev\": \"54.61\", \"min\": \"17.6\", \"max\": \"335.5\", \"missing\": \"0\"}, \"transformation\": \"\"}, {\"transformationsData\": {}, \"feature\": \"Day_Calls\", \"transformation\": \"\", \"type\": \"numeric\", \"replaceby\": \"mean\", \"selected\": \"True\", \"stats\": {\"count\": \"660\", \"mean\": \"99.72\", \"stddev\": \"20.76\", \"min\": \"42\", \"max\": \"163\", \"missing\": \"0\"}}, {\"transformationsData\": {}, \"feature\": \"Day_Charge\", \"type\": \"real\", \"selected\": \"True\", \"replaceby\": \"mean\", \"stats\": {\"count\": \"660\", \"mean\": \"30.12\", \"stddev\": \"9.28\", \"min\": \"2.99\", \"max\": \"57.04\", \"missing\": \"0\"}, \"transformation\": \"\"}, {\"transformationsData\": {}, \"feature\": \"Eve_Mins\", \"type\": \"real\", \"selected\": \"True\", \"replaceby\": \"mean\", \"stats\": {\"count\": \"660\", \"mean\": \"202.05\", \"stddev\": \"48.95\", \"min\": \"42.5\", \"max\": \"354.2\", \"missing\": \"0\"}, \"transformation\": \"\"}, {\"transformationsData\": {}, \"feature\": \"Eve_Calls\", \"transformation\": \"\", \"type\": \"numeric\", \"replaceby\": \"mean\", \"selected\": \"True\", \"stats\": {\"count\": \"660\", \"mean\": \"99.89\", \"stddev\": \"20.83\", \"min\": \"36\", \"max\": \"164\", \"missing\": \"0\"}}, {\"transformationsData\": {}, \"feature\": \"Eve_Charge\", \"type\": \"real\", \"selected\": \"True\", \"replaceby\": \"mean\", \"stats\": {\"count\": \"660\", \"mean\": \"17.17\", \"stddev\": \"4.16\", \"min\": \"3.61\", \"max\": \"30.11\", \"missing\": \"0\"}, \"transformation\": \"\"}, {\"transformationsData\": {}, \"feature\": \"Night_Mins\", \"type\": \"real\", \"selected\": \"True\", \"replaceby\": \"mean\", \"stats\": {\"count\": \"660\", \"mean\": \"201.86\", \"stddev\": \"48.33\", \"min\": \"57.5\", \"max\": \"352.5\", \"missing\": \"0\"}, \"transformation\": \"\"}, {\"transformationsData\": {}, \"feature\": \"Night_Calls\", \"transformation\": \"\", \"type\": \"numeric\", \"replaceby\": \"mean\", \"selected\": \"True\", \"stats\": {\"count\": \"660\", \"mean\": \"99.48\", \"stddev\": \"20.08\", \"min\": \"33\", \"max\": \"157\", \"missing\": \"0\"}}, {\"transformationsData\": {}, \"feature\": \"Night_Charge\", \"type\": \"real\", \"selected\": \"True\", \"replaceby\": \"mean\", \"stats\": {\"count\": \"660\", \"mean\": \"9.08\", \"stddev\": \"2.17\", \"min\": \"2.59\", \"max\": \"15.86\", \"missing\": \"0\"}, \"transformation\": \"\"}, {\"transformationsData\": {}, \"feature\": \"Intl_Mins\", \"type\": \"real\", \"selected\": \"True\", \"replaceby\": \"mean\", \"stats\": {\"count\": \"660\", \"mean\": \"10.28\", \"stddev\": \"2.84\", \"min\": \"0.0\", \"max\": \"20.0\", \"missing\": \"0\"}, \"transformation\": \"\"}, {\"transformationsData\": {}, \"feature\": \"total_Mins\", \"type\": \"real\", \"selected\": \"True\", \"replaceby\": \"mean\", \"stats\": {\"count\": \"660\", \"mean\": \"591.38\", \"stddev\": \"87.57\", \"min\": \"284.3\", \"max\": \"882.2\", \"missing\": \"0\"}, \"transformation\": \"\"}, {\"transformationsData\": {}, \"feature\": \"Intl_Calls\", \"transformation\": \"\", \"type\": \"numeric\", \"replaceby\": \"mean\", \"selected\": \"True\", \"stats\": {\"count\": \"660\", \"mean\": \"4.47\", \"stddev\": \"2.45\", \"min\": \"0\", \"max\": \"16\", \"missing\": \"0\"}}, {\"transformationsData\": {}, \"feature\": \"Intl_Charge\", \"type\": \"real\", \"selected\": \"True\", \"replaceby\": \"mean\", \"stats\": {\"count\": \"660\", \"mean\": \"2.78\", \"stddev\": \"0.77\", \"min\": \"0.0\", \"max\": \"5.4\", \"missing\": \"0\"}, \"transformation\": \"\"}, {\"transformationsData\": {}, \"feature\": \"Total_Charge\", \"type\": \"real\", \"selected\": \"True\", \"replaceby\": \"mean\", \"stats\": {\"count\": \"660\", \"mean\": \"59.16\", \"stddev\": \"10.32\", \"min\": \"25.52\", \"max\": \"90.46\", \"missing\": \"0\"}, \"transformation\": \"\"}, {\"transformationsData\": {}, \"feature\": \"CustServ_Calls\", \"transformation\": \"\", \"type\": \"numeric\", \"replaceby\": \"mean\", \"selected\": \"True\", \"stats\": {\"count\": \"660\", \"mean\": \"1.58\", \"stddev\": \"1.35\", \"min\": \"0\", \"max\": \"8\", \"missing\": \"0\"}}, {\"transformationsData\": {}, \"feature\": \"Churn\", \"transformation\": \"\", \"type\": \"numeric\", \"replaceby\": \"mean\", \"selected\": \"True\", \"stats\": {\"count\": \"660\", \"mean\": \"0.11\", \"stddev\": \"0.32\", \"min\": \"0\", \"max\": \"1\", \"missing\": \"0\"}}, {\"transformationsData\": {\"feature_label\": \"cluster_labels\"}, \"feature\": \"cluster_labels\", \"type\": \"string\", \"selected\": \"True\", \"replaceby\": \"max\", \"stats\": {\"count\": \"660\", \"mean\": \"\", \"stddev\": \"\", \"min\": \"day_callers\", \"max\": \"vmailers\", \"missing\": \"0\"}, \"transformation\": \"String Indexer\"}, {\"feature\": \"State_transform\", \"transformation\": \"\", \"transformationsData\": {}, \"type\": \"real\", \"selected\": \"True\", \"stats\": {\"count\": \"660\", \"mean\": \"21.07\", \"stddev\": \"14.41\", \"min\": \"0.0\", \"max\": \"50.0\", \"missing\": \"0\"}}, {\"feature\": \"Phone_transform\", \"transformation\": \"\", \"transformationsData\": {}, \"type\": \"real\", \"selected\": \"True\", \"stats\": {\"count\": \"660\", \"mean\": \"329.5\", \"stddev\": \"190.67\", \"min\": \"0.0\", \"max\": \"659.0\", \"missing\": \"0\"}}, {\"feature\": \"Intl_Plan_transform\", \"transformation\": \"\", \"transformationsData\": {}, \"type\": \"numeric\", \"selected\": \"True\", \"stats\": {\"count\": \"660\", \"mean\": \"0.08\", \"stddev\": \"0.28\", \"min\": \"0\", \"max\": \"1\", \"missing\": \"0\"}}, {\"feature\": \"VMail_Plan_transform\", \"transformation\": \"\", \"transformationsData\": {}, \"type\": \"numeric\", \"selected\": \"True\", \"stats\": {\"count\": \"660\", \"mean\": \"0.27\", \"stddev\": \"0.45\", \"min\": \"0\", \"max\": \"1\", \"missing\": \"0\"}}, {\"feature\": \"cluster_labels_transform\", \"transformation\": \"\", \"transformationsData\": {}, \"type\": \"real\", \"selected\": \"True\", \"stats\": {\"count\": \"660\", \"mean\": \"2.36\", \"stddev\": \"1.7\", \"min\": \"0.0\", \"max\": \"5.0\", \"missing\": \"0\"}}]}))\n",
    "\n",
    "except Exception as ex: \n",
    "\tlogging.error(ex)\n"
   ]
  },
  {
   "cell_type": "markdown",
   "metadata": {},
   "source": [
    "**TRAIN MODEL**"
   ]
  },
  {
   "cell_type": "code",
   "execution_count": null,
   "metadata": {},
   "outputs": [],
   "source": [
    "try: \n",
    "\tfunctionClassification(reponametest2pchurn_AutoFE, [\"State\", \"Account_Length\", \"Area_Code\", \"Phone\", \"Intl_Plan\", \"VMail_Plan\", \"VMail_Message\", \"Day_Mins\", \"Day_Calls\", \"Day_Charge\", \"Eve_Mins\", \"Eve_Calls\", \"Eve_Charge\", \"Night_Mins\", \"Night_Calls\", \"Night_Charge\", \"Intl_Mins\", \"total_Mins\", \"Intl_Calls\", \"Intl_Charge\", \"Total_Charge\", \"CustServ_Calls\", \"cluster_labels\"], \"Churn\")\n",
    "\n",
    "except Exception as ex: \n",
    "\tlogging.error(ex)\n"
   ]
  }
 ],
 "metadata": {},
 "nbformat": 4,
 "nbformat_minor": 2
}
